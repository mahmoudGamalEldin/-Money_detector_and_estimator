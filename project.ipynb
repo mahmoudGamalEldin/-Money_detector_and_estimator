{
 "cells": [
  {
   "cell_type": "code",
   "execution_count": 178,
   "metadata": {},
   "outputs": [],
   "source": [
    "import cv2\n",
    "import numpy as np\n",
    "from matplotlib import pyplot as plt"
   ]
  },
  {
   "cell_type": "code",
   "execution_count": 179,
   "metadata": {},
   "outputs": [],
   "source": [
    "\"\"\"\n",
    "this function is applied on each template , to get its featues ,, \n",
    "then we could match it with any input image that will be tested\n",
    "\"\"\"\n",
    "def get_currency_feature(img):\n",
    "    #to ensure that image is in gray scale\n",
    "    img=cv2.cvtColor(img, cv2.COLOR_BGR2GRAY)\n",
    "    #declaring orb object\n",
    "    orb=cv2.ORB_create()\n",
    "    #find key points with ORB\n",
    "    kp = orb.detect(img,None)\n",
    "    # compute the descriptors with ORB\n",
    "    kp, des = orb.compute(img, kp)\n",
    "    \n",
    "    return kp, des\n",
    "    "
   ]
  },
  {
   "cell_type": "code",
   "execution_count": 180,
   "metadata": {},
   "outputs": [],
   "source": [
    "\"\"\"\n",
    "x : the input image that will act as template\n",
    "\n",
    "kp and des : the features of image to be tested .\n",
    "\"\"\"\n",
    "\n",
    "def guess(template_image, input_Kp, input_des): #kp,des of the input image , x is the images/\n",
    "    template_kp,template_des=get_currency_feature(template_image)\n",
    "    # create BFMatcher object\n",
    "    bf = cv2.BFMatcher(cv2.NORM_HAMMING, crossCheck=True)\n",
    "    # Match descriptors.\n",
    "    matches = bf.match(input_des, template_des)\n",
    "    # Sort them in the order of their distance.\n",
    "    matches = sorted(matches, key = lambda x:x.distance)\n",
    "    sum_of_matches=0 \n",
    "    \n",
    "    n_of_matches = 7\n",
    "    \n",
    "    for i in range (0 , n_of_matches):\n",
    "        sum_of_matches = sum_of_matches+ matches[i].distance  # getting list of top 7 matches' distances\n",
    "    return sum_of_matches"
   ]
  },
  {
   "cell_type": "code",
   "execution_count": 181,
   "metadata": {},
   "outputs": [],
   "source": [
    "class our_templates:\n",
    "    templates_values = []\n",
    "    num_of_templates = 0 \n",
    "    templates_list  =[]\n",
    "    #add any new templates here\n",
    "    def __init__(self):\n",
    "        \n",
    "        half_pound_front=cv2.imread('dataset//templates//half_pound_coin_front.png')\n",
    "        self.templates_list.append(half_pound_front)\n",
    "        self.templates_values.append(0.5)\n",
    "        \n",
    "        half_pound_back=cv2.imread('dataset//templates//half_pound_coin_back.png')\n",
    "        self.templates_list.append(half_pound_back)\n",
    "        self.templates_values.append(0.5)\n",
    "        \n",
    "        one_pound_back=cv2.imread('dataset//templates//one_pound_coin_back.png')\n",
    "        self.templates_list.append(one_pound_back)\n",
    "        self.templates_values.append(1)\n",
    "        \n",
    "        one_pound_front=cv2.imread('dataset//templates//one_pound_coin_front.png')\n",
    "        self.templates_list.append(one_pound_front)\n",
    "        self.templates_values.append(1)\n",
    "\n",
    "        one_pound_back_paper=cv2.imread('dataset//templates//one_pound_paper_back.png')\n",
    "        self.templates_list.append(one_pound_back_paper)\n",
    "        self.templates_values.append(1)\n",
    "        \n",
    "        one_pound_front_paper=cv2.imread('dataset//templates//one_pound_paper_front.png')\n",
    "        self.templates_list.append(one_pound_front_paper)\n",
    "        self.templates_values.append(1)      \n",
    "        \n",
    "        five_pound_front_paper=cv2.imread('dataset//templates//5 part_1.jpg')\n",
    "        self.templates_list.append(five_pound_front_paper)\n",
    "        self.templates_values.append(5)\n",
    "        \n",
    "        five_pound_back_paper=cv2.imread('dataset//templates//five_pound_paper_back.jpg')\n",
    "        self.templates_list.append(five_pound_back_paper)\n",
    "        self.templates_values.append(5)\n",
    "        \n",
    "        self.num_of_templates = len(self.templates_values)\n",
    "        \n",
    "        \n",
    "        "
   ]
  },
  {
   "cell_type": "code",
   "execution_count": 182,
   "metadata": {},
   "outputs": [],
   "source": [
    "\n",
    "def estimate( input_kp, input_des , templates):\n",
    "    overall_matches=[] \n",
    "    for i in range(0 ,templates.num_of_templates ):\n",
    "        overall_matches.append( guess(templates.templates_list[i] ,input_kp , input_des )  )\n",
    "    \n",
    "    minimum_dis = overall_matches.index(min(overall_matches)) #getting index of the predicted banknote\n",
    "    \n",
    "    predicted = templates.templates_values[minimum_dis]\n",
    "    \n",
    "    print(\"preddicted = {0} ,index = {1}\".format(predicted , minimum_dis))\n",
    "    return predicted\n"
   ]
  },
  {
   "cell_type": "code",
   "execution_count": 183,
   "metadata": {},
   "outputs": [],
   "source": [
    "## mobile camera test\n",
    "samples_list = []\n",
    "num_of_samples = 12\n",
    "#five samples\n",
    "\n",
    "five1 =cv2.imread('dataset//five_samples//five1.png')\n",
    "samples_list.append(five1)\n",
    "five2 =cv2.imread('dataset//five_samples//five2.png')\n",
    "samples_list.append(five2)\n",
    "five3 =cv2.imread('dataset//five_samples//five3.png')\n",
    "samples_list.append(five3)\n",
    "five4 =cv2.imread('dataset//five_samples//five4.png')\n",
    "samples_list.append(five4)\n",
    "five5 =cv2.imread('dataset//five_samples//five5.png')\n",
    "samples_list.append(five5)\n",
    "five6 =cv2.imread('dataset//five_samples//five6.png')\n",
    "samples_list.append(five6)\n",
    "five7 =cv2.imread('dataset//five_samples//five7.png')\n",
    "samples_list.append(five7)\n",
    "five8 =cv2.imread('dataset//five_samples//five8.png')\n",
    "samples_list.append(five8)\n",
    "five9 =cv2.imread('dataset//five_samples//five9.png')\n",
    "samples_list.append(five9)\n",
    "five10 =cv2.imread('dataset//five_samples//five10.png')\n",
    "samples_list.append(five10)\n",
    "five11 =cv2.imread('dataset//five_samples//five11.png')\n",
    "samples_list.append(five11)\n",
    "five12 =cv2.imread('dataset//five_samples//five12.png')\n",
    "samples_list.append(five12)\n"
   ]
  },
  {
   "cell_type": "code",
   "execution_count": null,
   "metadata": {},
   "outputs": [],
   "source": []
  },
  {
   "cell_type": "code",
   "execution_count": 184,
   "metadata": {},
   "outputs": [],
   "source": [
    "keys_and_des = []\n",
    "\n",
    "for i in range(0,num_of_samples):\n",
    "    keys_and_des.append( get_currency_feature(samples_list[i]) )"
   ]
  },
  {
   "cell_type": "code",
   "execution_count": 185,
   "metadata": {},
   "outputs": [
    {
     "name": "stdout",
     "output_type": "stream",
     "text": [
      "preddicted = 5 ,index = 6\n",
      "preddicted = 5 ,index = 6\n",
      "preddicted = 5 ,index = 6\n",
      "preddicted = 1 ,index = 5\n",
      "preddicted = 5 ,index = 6\n",
      "preddicted = 5 ,index = 6\n",
      "preddicted = 5 ,index = 6\n",
      "preddicted = 5 ,index = 6\n",
      "preddicted = 5 ,index = 6\n",
      "preddicted = 5 ,index = 6\n",
      "preddicted = 0.5 ,index = 1\n",
      "preddicted = 5 ,index = 6\n"
     ]
    }
   ],
   "source": [
    "templatess = our_templates()\n",
    "results = []\n",
    "for i in range(0,num_of_samples):\n",
    "    estimate(keys_and_des[i][0] , keys_and_des[i][1] , templatess)\n",
    "\n",
    "\n",
    "\n",
    "#money_detected=first_image+second_image\n",
    "\n",
    "#print(money_detected)"
   ]
  },
  {
   "cell_type": "code",
   "execution_count": 69,
   "metadata": {},
   "outputs": [
    {
     "name": "stdout",
     "output_type": "stream",
     "text": [
      "65.0\n",
      "('min_dis', 4)\n",
      "[65.0, 64.0, 65.0, 65.0, 60.0]\n",
      "5\n"
     ]
    }
   ],
   "source": [
    "\"\"\"\n",
    "overall_matches=[]\n",
    "money_sorted=[0.5,0.5,1,1,5,5]\n",
    "m_1=guess(half_pound_front,M,N)\n",
    "overall_matches.append(m_1)\n",
    "print(m_1)\n",
    "m_2=guess(half_pound_back,M,N)\n",
    "overall_matches.append(m_2)\n",
    "\n",
    "m_3=guess(one_pound_back,M,N)\n",
    "overall_matches.append(m_3)\n",
    "\n",
    "m_4=guess(one_pound_front,M,N)\n",
    "overall_matches.append(m_4)\n",
    "\n",
    "m_5=guess(five_pound_back_paper,M,N)\n",
    "overall_matches.append(m_5)\n",
    "\n",
    "\n",
    "minimum_dis=overall_matches.index(min(overall_matches))\n",
    "print('min_dis',minimum_dis)\n",
    "print(overall_matches)\n",
    "#the predicted money is\n",
    "predicted=money_sorted[minimum_dis]\n",
    "print (predicted)\n",
    "\"\"\""
   ]
  },
  {
   "cell_type": "code",
   "execution_count": null,
   "metadata": {},
   "outputs": [],
   "source": []
  },
  {
   "cell_type": "code",
   "execution_count": null,
   "metadata": {},
   "outputs": [],
   "source": []
  },
  {
   "cell_type": "code",
   "execution_count": null,
   "metadata": {},
   "outputs": [],
   "source": []
  }
 ],
 "metadata": {
  "kernelspec": {
   "display_name": "Python 3",
   "language": "python",
   "name": "python3"
  },
  "language_info": {
   "codemirror_mode": {
    "name": "ipython",
    "version": 3
   },
   "file_extension": ".py",
   "mimetype": "text/x-python",
   "name": "python",
   "nbconvert_exporter": "python",
   "pygments_lexer": "ipython3",
   "version": "3.6.3"
  }
 },
 "nbformat": 4,
 "nbformat_minor": 2
}
